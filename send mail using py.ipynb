{
 "cells": [
  {
   "cell_type": "code",
   "execution_count": null,
   "id": "97e662e5",
   "metadata": {},
   "outputs": [],
   "source": [
    "import smtplib\n",
    "from email.mime.text import MIMEText\n",
    "from email.mime.multipart import MIMEMultipart\n",
    "\n",
    "def send_email(sender_email, sender_password, receiver_email, subject, body):\n",
    "    try:\n",
    "        # Set up the SMTP server\n",
    "        smtp_server = \"smtp.gmail.com\"\n",
    "        port = 587  # Use 465 for SSL or 587 for TLS\n",
    "        smtp = smtplib.SMTP(smtp_server, port)\n",
    "        smtp.starttls()  # Encrypt the connection\n",
    "\n",
    "        # Login to your email account\n",
    "        smtp.login(sender_email, sender_password)\n",
    "\n",
    "        # Create the email message\n",
    "        message = MIMEMultipart()\n",
    "        message[\"From\"] = sender_email\n",
    "        message[\"To\"] = receiver_email\n",
    "        message[\"Subject\"] = subject\n",
    "\n",
    "        # Attach the body to the email\n",
    "        message.attach(MIMEText(body, \"plain\"))\n",
    "\n",
    "        # Send the email\n",
    "        smtp.sendmail(sender_email, receiver_email, message.as_string())\n",
    "\n",
    "        # Quit the SMTP server\n",
    "        smtp.quit()\n",
    "\n",
    "        print(\"Email sent successfully!\")\n",
    "\n",
    "    except Exception as e:\n",
    "        print(f\"Error: {str(e)}\")\n",
    "\n",
    "if _name_ == \"_main_\":\n",
    "    # Replace these with your actual email credentials and email content\n",
    "    sender_email = \"azfaraws@gmail.com\"\n",
    "    sender_password = \"@Azfar123\"\n",
    "    receiver_email = \"sachinsingh58624@gmail.com\"\n",
    "    subject = \"Test Email from Python\"\n",
    "    body = \"This is a test email sent from Python.\"\n",
    "\n",
    "    send_email(sender_email, sender_password, receiver_email, subject, body)"
   ]
  }
 ],
 "metadata": {
  "kernelspec": {
   "display_name": "Python 3 (ipykernel)",
   "language": "python",
   "name": "python3"
  },
  "language_info": {
   "codemirror_mode": {
    "name": "ipython",
    "version": 3
   },
   "file_extension": ".py",
   "mimetype": "text/x-python",
   "name": "python",
   "nbconvert_exporter": "python",
   "pygments_lexer": "ipython3",
   "version": "3.11.3"
  }
 },
 "nbformat": 4,
 "nbformat_minor": 5
}
